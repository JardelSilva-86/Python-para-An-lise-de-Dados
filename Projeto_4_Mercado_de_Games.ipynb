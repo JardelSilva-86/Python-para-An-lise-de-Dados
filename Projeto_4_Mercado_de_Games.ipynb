{
  "nbformat": 4,
  "nbformat_minor": 0,
  "metadata": {
    "colab": {
      "name": "Projeto_4_Mercado_de_Games",
      "provenance": [],
      "collapsed_sections": [],
      "authorship_tag": "ABX9TyMyMVtoXz1GVgbqjbz81Tpg",
      "include_colab_link": true
    },
    "kernelspec": {
      "name": "python3",
      "display_name": "Python 3"
    },
    "language_info": {
      "name": "python"
    }
  },
  "cells": [
    {
      "cell_type": "markdown",
      "metadata": {
        "id": "view-in-github",
        "colab_type": "text"
      },
      "source": [
        "<a href=\"https://colab.research.google.com/github/JardelSilva-86/PythonParaAnaliseDeDados/blob/main/Projeto_4_Mercado_de_Games.ipynb\" target=\"_parent\"><img src=\"https://colab.research.google.com/assets/colab-badge.svg\" alt=\"Open In Colab\"/></a>"
      ]
    },
    {
      "cell_type": "markdown",
      "source": [
        "# Conjunto de dados de vendas de videogames"
      ],
      "metadata": {
        "id": "4HQ8UT8QVOSW"
      }
    },
    {
      "cell_type": "markdown",
      "source": [
        "Baixar os dados [neste link do Kaggle](https://www.kaggle.com/datasets/sidtwr/videogames-sales-dataset)\n",
        "\n",
        "Utilizar o arquivo \"PS4_GamesSales.csv\"\n",
        "\n",
        "\n",
        "\n",
        "\n"
      ],
      "metadata": {
        "id": "hQ-YgD5XVV9F"
      }
    },
    {
      "cell_type": "code",
      "execution_count": null,
      "metadata": {
        "id": "-X1M5ulOSrO_"
      },
      "outputs": [],
      "source": [
        ""
      ]
    }
  ]
}