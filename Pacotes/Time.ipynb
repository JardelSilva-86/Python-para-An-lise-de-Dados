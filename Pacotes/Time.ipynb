{
 "cells": [
  {
   "cell_type": "markdown",
   "id": "bf3e21b3",
   "metadata": {},
   "source": [
    "# Pacote "
   ]
  },
  {
   "cell_type": "code",
   "execution_count": 5,
   "id": "25c4fdf7",
   "metadata": {},
   "outputs": [],
   "source": [
    "import time"
   ]
  },
  {
   "cell_type": "code",
   "execution_count": 6,
   "id": "5f408300",
   "metadata": {},
   "outputs": [
    {
     "name": "stdout",
     "output_type": "stream",
     "text": [
      "Comecei agora...\n",
      "Terminei\n"
     ]
    }
   ],
   "source": [
    "print( \"Comecei agora...\" )\n",
    "time.sleep(5)\n",
    "print( \"Terminei\" )"
   ]
  },
  {
   "cell_type": "code",
   "execution_count": 8,
   "id": "a983fe6d",
   "metadata": {},
   "outputs": [
    {
     "name": "stdout",
     "output_type": "stream",
     "text": [
      "time.struct_time(tm_year=2022, tm_mon=5, tm_mday=16, tm_hour=20, tm_min=52, tm_sec=17, tm_wday=0, tm_yday=136, tm_isdst=0)\n"
     ]
    }
   ],
   "source": [
    "Agora = time.localtime()\n",
    "print( Agora )"
   ]
  },
  {
   "cell_type": "code",
   "execution_count": 9,
   "id": "ad32525a",
   "metadata": {},
   "outputs": [
    {
     "name": "stdout",
     "output_type": "stream",
     "text": [
      "<class 'time.struct_time'>\n"
     ]
    }
   ],
   "source": [
    "print( type(Agora) )"
   ]
  },
  {
   "cell_type": "code",
   "execution_count": 10,
   "id": "851dcbc8",
   "metadata": {},
   "outputs": [
    {
     "data": {
      "text/plain": [
       "'05/16/22, 20:52:17'"
      ]
     },
     "execution_count": 10,
     "metadata": {},
     "output_type": "execute_result"
    }
   ],
   "source": [
    "time.strftime( '%m/%d/%y, %H:%M:%S', Agora)"
   ]
  },
  {
   "cell_type": "code",
   "execution_count": 13,
   "id": "aa5d77ee",
   "metadata": {},
   "outputs": [
    {
     "data": {
      "text/plain": [
       "time.struct_time(tm_year=2022, tm_mon=6, tm_mday=26, tm_hour=0, tm_min=0, tm_sec=0, tm_wday=6, tm_yday=177, tm_isdst=-1)"
      ]
     },
     "execution_count": 13,
     "metadata": {},
     "output_type": "execute_result"
    }
   ],
   "source": [
    "time_texto = '26 June, 2022'\n",
    "time.strptime( time_texto, '%d %B, %Y' )"
   ]
  },
  {
   "cell_type": "code",
   "execution_count": null,
   "id": "fce8c4c4",
   "metadata": {},
   "outputs": [],
   "source": []
  }
 ],
 "metadata": {
  "celltoolbar": "Raw Cell Format",
  "kernelspec": {
   "display_name": "Python 3",
   "language": "python",
   "name": "python3"
  },
  "language_info": {
   "codemirror_mode": {
    "name": "ipython",
    "version": 3
   },
   "file_extension": ".py",
   "mimetype": "text/x-python",
   "name": "python",
   "nbconvert_exporter": "python",
   "pygments_lexer": "ipython3",
   "version": "3.7.11"
  }
 },
 "nbformat": 4,
 "nbformat_minor": 5
}
