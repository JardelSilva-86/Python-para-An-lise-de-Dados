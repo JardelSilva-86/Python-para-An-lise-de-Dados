{
  "nbformat": 4,
  "nbformat_minor": 0,
  "metadata": {
    "colab": {
      "name": "Numpy.ipynb",
      "provenance": [],
      "collapsed_sections": [],
      "authorship_tag": "ABX9TyP81N/zbjHuUGLqRObhNKa6",
      "include_colab_link": true
    },
    "kernelspec": {
      "name": "python3",
      "display_name": "Python 3"
    },
    "language_info": {
      "name": "python"
    }
  },
  "cells": [
    {
      "cell_type": "markdown",
      "metadata": {
        "id": "view-in-github",
        "colab_type": "text"
      },
      "source": [
        "<a href=\"https://colab.research.google.com/github/JardelSilva-86/PythonParaAnaliseDeDados/blob/main/Numpy.ipynb\" target=\"_parent\"><img src=\"https://colab.research.google.com/assets/colab-badge.svg\" alt=\"Open In Colab\"/></a>"
      ]
    },
    {
      "cell_type": "markdown",
      "source": [
        "O pacote Numpy fornece um grande conjunto de funções e operações de biblioteca que ajudam os programadores a executar facilmente cálculos numéricos.\n",
        "\n",
        "Mas em Numpy, as dimensões são chamadas de eixo. O número de eixos é classificado. Em termos mais simples, quando você tem mais de uma matriz unidimensional, então o conceito do eixo surge. \n",
        "Por exemplo, a matriz 2-D tem 2 eixos."
      ],
      "metadata": {
        "id": "2eHqEIOPcPD6"
      }
    },
    {
      "cell_type": "code",
      "execution_count": 1,
      "metadata": {
        "id": "IrWFgvbObMi1"
      },
      "outputs": [],
      "source": [
        "# importar a lib\n",
        "import numpy as np"
      ]
    },
    {
      "cell_type": "code",
      "source": [
        "# versão\n",
        "print( np.__version__)"
      ],
      "metadata": {
        "colab": {
          "base_uri": "https://localhost:8080/"
        },
        "id": "gsuiyp3lcs3G",
        "outputId": "afb617b2-a740-4238-96b0-3fd229a8180a"
      },
      "execution_count": 2,
      "outputs": [
        {
          "output_type": "stream",
          "name": "stdout",
          "text": [
            "1.21.6\n"
          ]
        }
      ]
    },
    {
      "cell_type": "code",
      "source": [
        "# Criar uma matriz\n",
        "array = np.array( [10, 20, 30, 40, 50] )\n",
        "array"
      ],
      "metadata": {
        "colab": {
          "base_uri": "https://localhost:8080/"
        },
        "id": "2ty2UBmMcy2a",
        "outputId": "bfab7e04-960d-41d5-fea9-28eef5efd66f"
      },
      "execution_count": 4,
      "outputs": [
        {
          "output_type": "execute_result",
          "data": {
            "text/plain": [
              "array([10, 20, 30, 40, 50])"
            ]
          },
          "metadata": {},
          "execution_count": 4
        }
      ]
    },
    {
      "cell_type": "code",
      "source": [
        "# Tipo\n",
        "type( array )"
      ],
      "metadata": {
        "colab": {
          "base_uri": "https://localhost:8080/"
        },
        "id": "brD-qbfyc6Mt",
        "outputId": "d1e27a1d-df8e-4ae9-a28f-2c35b32c73ae"
      },
      "execution_count": 5,
      "outputs": [
        {
          "output_type": "execute_result",
          "data": {
            "text/plain": [
              "numpy.ndarray"
            ]
          },
          "metadata": {},
          "execution_count": 5
        }
      ]
    },
    {
      "cell_type": "code",
      "source": [
        "# matriz com 2 dimensões\n",
        "duas = np.array(\n",
        "    [[10, 9, 8, 7, 6],\n",
        "     [5, 4, 3, 2, 1]]\n",
        ")\n",
        "\n",
        "duas"
      ],
      "metadata": {
        "colab": {
          "base_uri": "https://localhost:8080/"
        },
        "id": "y5EbWHmydF0R",
        "outputId": "9652474a-24d9-44f9-87a2-2bb6446e736f"
      },
      "execution_count": 7,
      "outputs": [
        {
          "output_type": "execute_result",
          "data": {
            "text/plain": [
              "array([[10,  9,  8,  7,  6],\n",
              "       [ 5,  4,  3,  2,  1]])"
            ]
          },
          "metadata": {},
          "execution_count": 7
        }
      ]
    },
    {
      "cell_type": "code",
      "source": [
        "tres = np.array([\n",
        "    [15, 14, 13, 12, 11,],\n",
        "    [10, 9, 8, 7, 6],\n",
        "    [5, 4, 3, 2, 1]\n",
        "                 \n",
        "])\n",
        "\n",
        "print( tres )"
      ],
      "metadata": {
        "colab": {
          "base_uri": "https://localhost:8080/"
        },
        "id": "fKnWYui9dcwF",
        "outputId": "1832331b-ce3b-4705-fca3-aa9515d32d74"
      },
      "execution_count": 10,
      "outputs": [
        {
          "output_type": "stream",
          "name": "stdout",
          "text": [
            "[[15 14 13 12 11]\n",
            " [10  9  8  7  6]\n",
            " [ 5  4  3  2  1]]\n"
          ]
        }
      ]
    },
    {
      "cell_type": "code",
      "source": [
        "# Experimento de processamento\n",
        "np.arange( 100 )"
      ],
      "metadata": {
        "colab": {
          "base_uri": "https://localhost:8080/"
        },
        "id": "ZJU-86ixdnnj",
        "outputId": "634e3a39-1270-4e12-bb02-2fc70a249b47"
      },
      "execution_count": 11,
      "outputs": [
        {
          "output_type": "execute_result",
          "data": {
            "text/plain": [
              "array([ 0,  1,  2,  3,  4,  5,  6,  7,  8,  9, 10, 11, 12, 13, 14, 15, 16,\n",
              "       17, 18, 19, 20, 21, 22, 23, 24, 25, 26, 27, 28, 29, 30, 31, 32, 33,\n",
              "       34, 35, 36, 37, 38, 39, 40, 41, 42, 43, 44, 45, 46, 47, 48, 49, 50,\n",
              "       51, 52, 53, 54, 55, 56, 57, 58, 59, 60, 61, 62, 63, 64, 65, 66, 67,\n",
              "       68, 69, 70, 71, 72, 73, 74, 75, 76, 77, 78, 79, 80, 81, 82, 83, 84,\n",
              "       85, 86, 87, 88, 89, 90, 91, 92, 93, 94, 95, 96, 97, 98, 99])"
            ]
          },
          "metadata": {},
          "execution_count": 11
        }
      ]
    },
    {
      "cell_type": "code",
      "source": [
        "# Estressando o Numpy \n",
        "\n",
        "Estressando_NP = np.arange( 1000000 )\n",
        "\n",
        "len( Estressando_NP )"
      ],
      "metadata": {
        "colab": {
          "base_uri": "https://localhost:8080/"
        },
        "id": "wTHUo2I-kbxC",
        "outputId": "4a98b5eb-fc17-4444-f80e-e0f2ec0c5056"
      },
      "execution_count": 14,
      "outputs": [
        {
          "output_type": "execute_result",
          "data": {
            "text/plain": [
              "1000000"
            ]
          },
          "metadata": {},
          "execution_count": 14
        }
      ]
    },
    {
      "cell_type": "code",
      "source": [
        "# 1º teste\n",
        "# %time - Serve para verificar o tempo de processamento\n",
        "%time for loop in Estressando_NP: pass"
      ],
      "metadata": {
        "colab": {
          "base_uri": "https://localhost:8080/"
        },
        "id": "-MIRbYNckfpL",
        "outputId": "9a379704-085c-48a4-af92-2dccfede60c7"
      },
      "execution_count": 16,
      "outputs": [
        {
          "output_type": "stream",
          "name": "stdout",
          "text": [
            "CPU times: user 71.6 ms, sys: 263 µs, total: 71.8 ms\n",
            "Wall time: 74.4 ms\n"
          ]
        }
      ]
    },
    {
      "cell_type": "code",
      "source": [
        "Estressando_NP01 = np.arange( 5000000 )\n",
        "Estressando_NP02 = np.arange( 10000000 )\n",
        "Estressando_NP03 = np.arange( 50000000 )\n",
        "\n",
        "print( len( Estressando_NP01 ), len( Estressando_NP02 ),len( Estressando_NP03 ),)"
      ],
      "metadata": {
        "colab": {
          "base_uri": "https://localhost:8080/"
        },
        "id": "iQkaNo0jlFXS",
        "outputId": "8b104b82-2bec-45e7-97f4-56c37cafc843"
      },
      "execution_count": 17,
      "outputs": [
        {
          "output_type": "stream",
          "name": "stdout",
          "text": [
            "5000000 10000000 50000000\n"
          ]
        }
      ]
    },
    {
      "cell_type": "code",
      "source": [
        "# 2º teste\n",
        "%time for loop in Estressando_NP01: pass"
      ],
      "metadata": {
        "colab": {
          "base_uri": "https://localhost:8080/"
        },
        "id": "m9M3nVo8lv6L",
        "outputId": "b1f611f9-8037-40ee-98aa-b04e8e8ea854"
      },
      "execution_count": 18,
      "outputs": [
        {
          "output_type": "stream",
          "name": "stdout",
          "text": [
            "CPU times: user 364 ms, sys: 3.36 ms, total: 368 ms\n",
            "Wall time: 373 ms\n"
          ]
        }
      ]
    },
    {
      "cell_type": "code",
      "source": [
        "# 3º teste\n",
        "%time for loop in Estressando_NP02: pass"
      ],
      "metadata": {
        "colab": {
          "base_uri": "https://localhost:8080/"
        },
        "id": "y3mOSjLel1ke",
        "outputId": "954fb8d4-88c8-4e3b-c2cb-0629bb58d4be"
      },
      "execution_count": 19,
      "outputs": [
        {
          "output_type": "stream",
          "name": "stdout",
          "text": [
            "CPU times: user 718 ms, sys: 0 ns, total: 718 ms\n",
            "Wall time: 725 ms\n"
          ]
        }
      ]
    },
    {
      "cell_type": "code",
      "source": [
        "# 4º teste\n",
        "%time for loop in Estressando_NP03: pass"
      ],
      "metadata": {
        "colab": {
          "base_uri": "https://localhost:8080/"
        },
        "id": "AY23JTm9l3Od",
        "outputId": "75fd482f-73c6-42d7-9eb5-772ab1c1eae6"
      },
      "execution_count": 20,
      "outputs": [
        {
          "output_type": "stream",
          "name": "stdout",
          "text": [
            "CPU times: user 3.44 s, sys: 0 ns, total: 3.44 s\n",
            "Wall time: 3.48 s\n"
          ]
        }
      ]
    },
    {
      "cell_type": "code",
      "source": [
        ""
      ],
      "metadata": {
        "id": "a5rFxW9tmEaU"
      },
      "execution_count": null,
      "outputs": []
    }
  ]
}