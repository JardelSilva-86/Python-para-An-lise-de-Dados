{
  "nbformat": 4,
  "nbformat_minor": 0,
  "metadata": {
    "colab": {
      "name": "Datetime.ipynb",
      "provenance": [],
      "authorship_tag": "ABX9TyPNjbFDacHiuRFelBnkA6l6",
      "include_colab_link": true
    },
    "kernelspec": {
      "name": "python3",
      "display_name": "Python 3"
    },
    "language_info": {
      "name": "python"
    }
  },
  "cells": [
    {
      "cell_type": "markdown",
      "metadata": {
        "id": "view-in-github",
        "colab_type": "text"
      },
      "source": [
        "<a href=\"https://colab.research.google.com/github/JardelSilva-86/PythonParaAnaliseDeDados/blob/main/Datetime.ipynb\" target=\"_parent\"><img src=\"https://colab.research.google.com/assets/colab-badge.svg\" alt=\"Open In Colab\"/></a>"
      ]
    },
    {
      "cell_type": "markdown",
      "source": [
        "# Pacote Datetime"
      ],
      "metadata": {
        "id": "UKSDaK7UOK8Y"
      }
    },
    {
      "cell_type": "code",
      "execution_count": 1,
      "metadata": {
        "colab": {
          "base_uri": "https://localhost:8080/"
        },
        "id": "oeAnHJ0gN-Pq",
        "outputId": "5e9326c9-8252-41d7-b3ab-6ac614734b92"
      },
      "outputs": [
        {
          "output_type": "execute_result",
          "data": {
            "text/plain": [
              "str"
            ]
          },
          "metadata": {},
          "execution_count": 1
        }
      ],
      "source": [
        "type ( '01/01/2022' )"
      ]
    },
    {
      "cell_type": "code",
      "source": [
        "type ( 01/01/2022 )"
      ],
      "metadata": {
        "colab": {
          "base_uri": "https://localhost:8080/",
          "height": 130
        },
        "id": "UZ0ptOiXOTfd",
        "outputId": "ef5dac9b-017e-475f-85a2-06fe2766b9e9"
      },
      "execution_count": 2,
      "outputs": [
        {
          "output_type": "error",
          "ename": "SyntaxError",
          "evalue": "ignored",
          "traceback": [
            "\u001b[0;36m  File \u001b[0;32m\"<ipython-input-2-9b662e2ae64a>\"\u001b[0;36m, line \u001b[0;32m1\u001b[0m\n\u001b[0;31m    type ( 01/01/2022 )\u001b[0m\n\u001b[0m            ^\u001b[0m\n\u001b[0;31mSyntaxError\u001b[0m\u001b[0;31m:\u001b[0m invalid token\n"
          ]
        }
      ]
    },
    {
      "cell_type": "code",
      "source": [
        "import datetime\n",
        "dia_hoje = datetime.datetime.today()\n",
        "print( dia_hoje )"
      ],
      "metadata": {
        "colab": {
          "base_uri": "https://localhost:8080/"
        },
        "id": "OwhymfQ4OdmY",
        "outputId": "bf20acf4-45a6-4d06-e1af-b44c5fba2a18"
      },
      "execution_count": 5,
      "outputs": [
        {
          "output_type": "stream",
          "name": "stdout",
          "text": [
            "2022-05-16 23:36:18.347088\n"
          ]
        }
      ]
    },
    {
      "cell_type": "code",
      "source": [
        "type( dia_hoje )"
      ],
      "metadata": {
        "colab": {
          "base_uri": "https://localhost:8080/"
        },
        "id": "1N1CpPFZOsmk",
        "outputId": "26670e0a-8374-4dff-c8e4-aff99924e1aa"
      },
      "execution_count": 7,
      "outputs": [
        {
          "output_type": "execute_result",
          "data": {
            "text/plain": [
              "datetime.datetime"
            ]
          },
          "metadata": {},
          "execution_count": 7
        }
      ]
    },
    {
      "cell_type": "code",
      "source": [
        "print( datetime.datetime.today().date() )"
      ],
      "metadata": {
        "colab": {
          "base_uri": "https://localhost:8080/"
        },
        "id": "VUvgvL2fO2mk",
        "outputId": "2bed4f1e-0399-4234-add5-f41f701f3042"
      },
      "execution_count": 8,
      "outputs": [
        {
          "output_type": "stream",
          "name": "stdout",
          "text": [
            "2022-05-16\n"
          ]
        }
      ]
    },
    {
      "cell_type": "code",
      "source": [
        "data = datetime.datetime.today().date()\n",
        "\n",
        "ano = data.year\n",
        "mes = data.month\n",
        "dia = data.day\n",
        "\n",
        "print( ano, mes, dia )"
      ],
      "metadata": {
        "colab": {
          "base_uri": "https://localhost:8080/"
        },
        "id": "OnUx0JIkPF5E",
        "outputId": "fe2cbb16-40bc-46c5-ff2b-e7966bbb9978"
      },
      "execution_count": 11,
      "outputs": [
        {
          "output_type": "stream",
          "name": "stdout",
          "text": [
            "2022 5 16\n"
          ]
        }
      ]
    },
    {
      "cell_type": "code",
      "source": [
        "data_antiga = datetime.date( 2022, 1, 22)\n",
        "data_antiga"
      ],
      "metadata": {
        "colab": {
          "base_uri": "https://localhost:8080/"
        },
        "id": "6ImNsUd-PaYR",
        "outputId": "51acc7c3-47c2-4ac5-81c7-9f99b2863dc3"
      },
      "execution_count": 14,
      "outputs": [
        {
          "output_type": "execute_result",
          "data": {
            "text/plain": [
              "datetime.date(2022, 1, 22)"
            ]
          },
          "metadata": {},
          "execution_count": 14
        }
      ]
    },
    {
      "cell_type": "code",
      "source": [
        "# Calcular diferença entre datas\n",
        "\n",
        "data - data_antiga"
      ],
      "metadata": {
        "colab": {
          "base_uri": "https://localhost:8080/"
        },
        "id": "-OkfWGoFPpGk",
        "outputId": "74bacaf8-ecad-43d1-8717-cdec30c873af"
      },
      "execution_count": 15,
      "outputs": [
        {
          "output_type": "execute_result",
          "data": {
            "text/plain": [
              "datetime.timedelta(days=114)"
            ]
          },
          "metadata": {},
          "execution_count": 15
        }
      ]
    },
    {
      "cell_type": "code",
      "source": [
        "data.strftime( '%d/%m/%y' )"
      ],
      "metadata": {
        "colab": {
          "base_uri": "https://localhost:8080/",
          "height": 35
        },
        "id": "zQfC1Z3iPxAY",
        "outputId": "504bdfcf-5cbb-4b37-f203-a6c7ee3d3244"
      },
      "execution_count": 16,
      "outputs": [
        {
          "output_type": "execute_result",
          "data": {
            "text/plain": [
              "'16/05/22'"
            ],
            "application/vnd.google.colaboratory.intrinsic+json": {
              "type": "string"
            }
          },
          "metadata": {},
          "execution_count": 16
        }
      ]
    },
    {
      "cell_type": "code",
      "source": [
        "# Somando datas\n",
        "data + datetime.timedelta(days = 100)"
      ],
      "metadata": {
        "colab": {
          "base_uri": "https://localhost:8080/"
        },
        "id": "AFYZNSgxP9Gs",
        "outputId": "9c41dd8a-ea53-48c6-ec07-48ec8e005acc"
      },
      "execution_count": 17,
      "outputs": [
        {
          "output_type": "execute_result",
          "data": {
            "text/plain": [
              "datetime.date(2022, 8, 24)"
            ]
          },
          "metadata": {},
          "execution_count": 17
        }
      ]
    }
  ]
}