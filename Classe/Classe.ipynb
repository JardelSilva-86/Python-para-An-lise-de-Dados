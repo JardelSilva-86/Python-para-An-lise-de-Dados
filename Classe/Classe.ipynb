{
  "nbformat": 4,
  "nbformat_minor": 0,
  "metadata": {
    "colab": {
      "name": "Classe.ipynb",
      "provenance": [],
      "collapsed_sections": [],
      "authorship_tag": "ABX9TyM37g2hZose5CTGUebr0Htc",
      "include_colab_link": true
    },
    "kernelspec": {
      "name": "python3",
      "display_name": "Python 3"
    },
    "language_info": {
      "name": "python"
    }
  },
  "cells": [
    {
      "cell_type": "markdown",
      "metadata": {
        "id": "view-in-github",
        "colab_type": "text"
      },
      "source": [
        "<a href=\"https://colab.research.google.com/github/JardelSilva-86/PythonParaAnaliseDeDados/blob/main/Classe.ipynb\" target=\"_parent\"><img src=\"https://colab.research.google.com/assets/colab-badge.svg\" alt=\"Open In Colab\"/></a>"
      ]
    },
    {
      "cell_type": "markdown",
      "source": [
        "# Classe\n",
        "\n",
        "Python é uma linguagem de programação orientada a objetos.\n",
        "Quase tudo em Python é um objeto, com suas propriedades e métodos. \n",
        "Uma classe é como um construtor de objetos, ou um \"projeto\" para criar objetos."
      ],
      "metadata": {
        "id": "Ng2PA2kpbqjP"
      }
    },
    {
      "cell_type": "code",
      "execution_count": 1,
      "metadata": {
        "id": "2Eur63rnbn-6"
      },
      "outputs": [],
      "source": [
        "# Exemplo 1 - Criando a classe Pessoa\n",
        "\n",
        "class Pessoa:\n",
        "\n",
        "    # Método Construtor\n",
        "    def __init__(self, Nome, Idade):\n",
        "        self.Nome = Nome\n",
        "        self.Idade = Idade\n",
        "    \n",
        "    def boas_vindas(self):\n",
        "        print(\"Olá seja bem vindo: \", self.Nome)\n",
        "\n",
        "    def Recusado(self):\n",
        "        print(\"Seu acesso foi recusado!\")\n",
        "\n",
        "    # Função\n",
        "    def maior_idade(self):\n",
        "        if self.Idade >= 18:\n",
        "            print(\"Usuário é maior de idade.\")\n",
        "            self.boas_vindas()\n",
        "        \n",
        "        else:\n",
        "            print(\"Usuário é menor de idade.\")\n",
        "            self.Recusado()\n"
      ]
    },
    {
      "cell_type": "code",
      "source": [
        "dados = Pessoa('Jardel', 30)"
      ],
      "metadata": {
        "id": "g9pSJfU5b-qD"
      },
      "execution_count": 4,
      "outputs": []
    },
    {
      "cell_type": "code",
      "source": [
        "dados.maior_idade()"
      ],
      "metadata": {
        "colab": {
          "base_uri": "https://localhost:8080/"
        },
        "id": "FJMA3um1cECx",
        "outputId": "1e071f7d-0336-4f6d-b769-2e6e10925372"
      },
      "execution_count": 5,
      "outputs": [
        {
          "output_type": "stream",
          "name": "stdout",
          "text": [
            "Usuário é maior de idade.\n",
            "Olá seja bem vindo:  Jardel\n"
          ]
        }
      ]
    },
    {
      "cell_type": "code",
      "source": [
        "# Exemplo 2  - Criando a classe Car\n",
        "class Car:\n",
        "    speed = 0\n",
        "    started = False\n",
        "    \n",
        "    def start(self):\n",
        "        self.started = True\n",
        "        print(\"Car started, let's ride!\")\n",
        "        \n",
        "    def increase_speed(self, delta):\n",
        "        if self.started:\n",
        "            self.speed = self.speed + delta\n",
        "            print('Vroooooooom!')\n",
        "        else:\n",
        "            print(\"You need to start the car first\")\n",
        "    \n",
        "    def stop(self):\n",
        "        self.speed = 0\n",
        "        print('Halting')"
      ],
      "metadata": {
        "id": "yDzt6QGMcKCq"
      },
      "execution_count": 23,
      "outputs": []
    },
    {
      "cell_type": "code",
      "source": [
        "# Atribuindo a classe Car() à variável car\n",
        "car = Car()"
      ],
      "metadata": {
        "id": "Ce4xIJn7cXz3"
      },
      "execution_count": 24,
      "outputs": []
    },
    {
      "cell_type": "code",
      "source": [
        "# Iniciando o programa com o método increase_speed\n",
        "car.increase_speed(10)"
      ],
      "metadata": {
        "colab": {
          "base_uri": "https://localhost:8080/"
        },
        "id": "miUf2SBicYzI",
        "outputId": "843dcb76-5310-451c-fd74-64eca5f5c96f"
      },
      "execution_count": 25,
      "outputs": [
        {
          "output_type": "stream",
          "name": "stdout",
          "text": [
            "You need to start the car first\n"
          ]
        }
      ]
    },
    {
      "cell_type": "code",
      "source": [
        "# Começando o program corretamente\n",
        "car.start()"
      ],
      "metadata": {
        "colab": {
          "base_uri": "https://localhost:8080/"
        },
        "id": "L90uwKWXcets",
        "outputId": "9ec3bf5d-6b13-46d7-c6fb-fe2cce5721f2"
      },
      "execution_count": 27,
      "outputs": [
        {
          "output_type": "stream",
          "name": "stdout",
          "text": [
            "Car started, let's ride!\n"
          ]
        }
      ]
    },
    {
      "cell_type": "code",
      "source": [
        "# Aumentando a velocidade\n",
        "car.increase_speed(50)"
      ],
      "metadata": {
        "colab": {
          "base_uri": "https://localhost:8080/"
        },
        "id": "wsTpK8_zcg5o",
        "outputId": "1dbe6e05-5af7-438e-fc8a-7cbb64627f49"
      },
      "execution_count": 28,
      "outputs": [
        {
          "output_type": "stream",
          "name": "stdout",
          "text": [
            "Vroooooooom!\n"
          ]
        }
      ]
    },
    {
      "cell_type": "code",
      "source": [
        "# Ainda na classe Car()\n",
        "# Vamos criar vários objetos\n",
        "car1 = Car()\n",
        "car2 = Car()"
      ],
      "metadata": {
        "id": "iRgPyjHjc5jO"
      },
      "execution_count": 29,
      "outputs": []
    },
    {
      "cell_type": "code",
      "source": [
        "# Utilizando o metódo Built-in id(), acabamos de provar que criamos 2 objetos diferentes da mesma classe. Com isso, podemos utilizá-la de forma independente.\n",
        "id(car1)"
      ],
      "metadata": {
        "colab": {
          "base_uri": "https://localhost:8080/"
        },
        "id": "O-h6JVCNc8Wo",
        "outputId": "67153793-56c4-47cf-fc68-8efb9c076067"
      },
      "execution_count": 31,
      "outputs": [
        {
          "output_type": "execute_result",
          "data": {
            "text/plain": [
              "139974446196240"
            ]
          },
          "metadata": {},
          "execution_count": 31
        }
      ]
    },
    {
      "cell_type": "code",
      "source": [
        "id(car2)"
      ],
      "metadata": {
        "colab": {
          "base_uri": "https://localhost:8080/"
        },
        "id": "svZrJ4mbdBXR",
        "outputId": "08039094-ebda-4c34-c19f-92a31c261e7e"
      },
      "execution_count": 32,
      "outputs": [
        {
          "output_type": "execute_result",
          "data": {
            "text/plain": [
              "139974446196944"
            ]
          },
          "metadata": {},
          "execution_count": 32
        }
      ]
    },
    {
      "cell_type": "code",
      "source": [
        "# Realizando a verificação da velocidade para confirmar que são carros diferentes\n",
        "car1.start()\n",
        "car1.increase_speed(30)"
      ],
      "metadata": {
        "colab": {
          "base_uri": "https://localhost:8080/"
        },
        "id": "VeX-tbRVdGVs",
        "outputId": "4552383e-5255-4d98-dd92-e006b336eab3"
      },
      "execution_count": 35,
      "outputs": [
        {
          "output_type": "stream",
          "name": "stdout",
          "text": [
            "Car started, let's ride!\n",
            "Vroooooooom!\n"
          ]
        }
      ]
    },
    {
      "cell_type": "code",
      "source": [
        "car1.speed\n"
      ],
      "metadata": {
        "colab": {
          "base_uri": "https://localhost:8080/"
        },
        "id": "F7jau_9AdK-c",
        "outputId": "ec332cea-92aa-4732-d1ad-e22b50a58092"
      },
      "execution_count": 37,
      "outputs": [
        {
          "output_type": "execute_result",
          "data": {
            "text/plain": [
              "30"
            ]
          },
          "metadata": {},
          "execution_count": 37
        }
      ]
    },
    {
      "cell_type": "code",
      "source": [
        "car2.speed"
      ],
      "metadata": {
        "colab": {
          "base_uri": "https://localhost:8080/"
        },
        "id": "waYa7qRcdRTo",
        "outputId": "f2c0c9c6-54b0-4f51-952b-71ac5e335dd2"
      },
      "execution_count": 38,
      "outputs": [
        {
          "output_type": "execute_result",
          "data": {
            "text/plain": [
              "0"
            ]
          },
          "metadata": {},
          "execution_count": 38
        }
      ]
    }
  ]
}