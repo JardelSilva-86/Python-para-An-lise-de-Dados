{
  "nbformat": 4,
  "nbformat_minor": 0,
  "metadata": {
    "colab": {
      "name": "Projeto_3_Mercado_Financeiro",
      "provenance": [],
      "mount_file_id": "1ZkZi_WDvRim3HLZR2imQjtU8CZgAGF00",
      "authorship_tag": "ABX9TyMOS9XmuKP+HRR/abB3Gu5f",
      "include_colab_link": true
    },
    "kernelspec": {
      "name": "python3",
      "display_name": "Python 3"
    },
    "language_info": {
      "name": "python"
    }
  },
  "cells": [
    {
      "cell_type": "markdown",
      "metadata": {
        "id": "view-in-github",
        "colab_type": "text"
      },
      "source": [
        "<a href=\"https://colab.research.google.com/github/JardelSilva-86/PythonParaAnaliseDeDados/blob/main/Projeto_3_Mercado_Financeiro.ipynb\" target=\"_parent\"><img src=\"https://colab.research.google.com/assets/colab-badge.svg\" alt=\"Open In Colab\"/></a>"
      ]
    },
    {
      "cell_type": "markdown",
      "source": [
        "# Analisar as ações da Magalu"
      ],
      "metadata": {
        "id": "EBf4VMjsBlYe"
      }
    },
    {
      "cell_type": "code",
      "execution_count": 6,
      "metadata": {
        "id": "ZPIfKouxBeF3",
        "colab": {
          "base_uri": "https://localhost:8080/"
        },
        "outputId": "e1193259-9e89-40bd-bdd3-d58468ddc772"
      },
      "outputs": [
        {
          "output_type": "stream",
          "name": "stdout",
          "text": [
            "https://docs.google.com/spreadsheets/d/1hZ_gEXVidZ0LizIX6FKt-AYh4HuB9PvR045rR5fFnjk/edit#gid=777765443\n"
          ]
        }
      ],
      "source": [
        "# Dados para download\n",
        "base_dados_neste_link = 'https://docs.google.com/spreadsheets/d/1hZ_gEXVidZ0LizIX6FKt-AYh4HuB9PvR045rR5fFnjk/edit#gid=777765443'\n",
        "\n",
        "print(base_dados)"
      ]
    },
    {
      "cell_type": "code",
      "source": [
        "# Libs necessárias\n",
        "\n",
        "# Libs para Modelagem e Matrizes\n",
        "import numpy as np\n",
        "import pandas as pd\n",
        "\n",
        "# Libs para análises gráficas\n",
        "import matplotlib.pyplot as plt\n",
        "import seaborn as sns\n",
        "import plotly.graph_objects as go\n",
        "\n",
        "# Libs para avisos\n",
        "import warnings\n",
        "\n",
        "# Desabilitando avisos\n",
        "warnings.filterwarnings('ignore')"
      ],
      "metadata": {
        "id": "Hfg0JQQvJnOk"
      },
      "execution_count": 7,
      "outputs": []
    },
    {
      "cell_type": "code",
      "source": [
        "# Lendo os dados\n",
        "base_dados = pd.read_excel( '/content/drive/MyDrive/Colab_Notebooks/PythonAnaliseDados/Projetos/Vase_004 - Magalu - Sem Resolução.xlsx' )\n",
        "\n",
        "# Verificando base de dados\n",
        "base_dados.head()"
      ],
      "metadata": {
        "colab": {
          "base_uri": "https://localhost:8080/",
          "height": 206
        },
        "id": "XvK8q6EvKwuj",
        "outputId": "7e80bee0-0f4c-45e5-9d1a-4c593dc3d642"
      },
      "execution_count": 11,
      "outputs": [
        {
          "output_type": "execute_result",
          "data": {
            "text/plain": [
              "        Data      Maior      Menor   Abertura  Fechamento    Volume  Adj Close\n",
              "0 2021-01-04  25.580000  24.870001  25.260000   25.200001  25706100  25.181740\n",
              "1 2021-01-05  25.180000  24.340000  25.100000   24.760000  25431900  24.742058\n",
              "2 2021-01-06  24.660000  23.420000  24.650000   23.459999  51799000  23.442999\n",
              "3 2021-01-07  23.850000  22.950001  23.639999   23.160000  42146600  23.143217\n",
              "4 2021-01-08  24.299999  23.020000  23.190001   23.840000  43988100  23.822723"
            ],
            "text/html": [
              "\n",
              "  <div id=\"df-738951a5-37d9-4441-ba70-ea2af50b2c1f\">\n",
              "    <div class=\"colab-df-container\">\n",
              "      <div>\n",
              "<style scoped>\n",
              "    .dataframe tbody tr th:only-of-type {\n",
              "        vertical-align: middle;\n",
              "    }\n",
              "\n",
              "    .dataframe tbody tr th {\n",
              "        vertical-align: top;\n",
              "    }\n",
              "\n",
              "    .dataframe thead th {\n",
              "        text-align: right;\n",
              "    }\n",
              "</style>\n",
              "<table border=\"1\" class=\"dataframe\">\n",
              "  <thead>\n",
              "    <tr style=\"text-align: right;\">\n",
              "      <th></th>\n",
              "      <th>Data</th>\n",
              "      <th>Maior</th>\n",
              "      <th>Menor</th>\n",
              "      <th>Abertura</th>\n",
              "      <th>Fechamento</th>\n",
              "      <th>Volume</th>\n",
              "      <th>Adj Close</th>\n",
              "    </tr>\n",
              "  </thead>\n",
              "  <tbody>\n",
              "    <tr>\n",
              "      <th>0</th>\n",
              "      <td>2021-01-04</td>\n",
              "      <td>25.580000</td>\n",
              "      <td>24.870001</td>\n",
              "      <td>25.260000</td>\n",
              "      <td>25.200001</td>\n",
              "      <td>25706100</td>\n",
              "      <td>25.181740</td>\n",
              "    </tr>\n",
              "    <tr>\n",
              "      <th>1</th>\n",
              "      <td>2021-01-05</td>\n",
              "      <td>25.180000</td>\n",
              "      <td>24.340000</td>\n",
              "      <td>25.100000</td>\n",
              "      <td>24.760000</td>\n",
              "      <td>25431900</td>\n",
              "      <td>24.742058</td>\n",
              "    </tr>\n",
              "    <tr>\n",
              "      <th>2</th>\n",
              "      <td>2021-01-06</td>\n",
              "      <td>24.660000</td>\n",
              "      <td>23.420000</td>\n",
              "      <td>24.650000</td>\n",
              "      <td>23.459999</td>\n",
              "      <td>51799000</td>\n",
              "      <td>23.442999</td>\n",
              "    </tr>\n",
              "    <tr>\n",
              "      <th>3</th>\n",
              "      <td>2021-01-07</td>\n",
              "      <td>23.850000</td>\n",
              "      <td>22.950001</td>\n",
              "      <td>23.639999</td>\n",
              "      <td>23.160000</td>\n",
              "      <td>42146600</td>\n",
              "      <td>23.143217</td>\n",
              "    </tr>\n",
              "    <tr>\n",
              "      <th>4</th>\n",
              "      <td>2021-01-08</td>\n",
              "      <td>24.299999</td>\n",
              "      <td>23.020000</td>\n",
              "      <td>23.190001</td>\n",
              "      <td>23.840000</td>\n",
              "      <td>43988100</td>\n",
              "      <td>23.822723</td>\n",
              "    </tr>\n",
              "  </tbody>\n",
              "</table>\n",
              "</div>\n",
              "      <button class=\"colab-df-convert\" onclick=\"convertToInteractive('df-738951a5-37d9-4441-ba70-ea2af50b2c1f')\"\n",
              "              title=\"Convert this dataframe to an interactive table.\"\n",
              "              style=\"display:none;\">\n",
              "        \n",
              "  <svg xmlns=\"http://www.w3.org/2000/svg\" height=\"24px\"viewBox=\"0 0 24 24\"\n",
              "       width=\"24px\">\n",
              "    <path d=\"M0 0h24v24H0V0z\" fill=\"none\"/>\n",
              "    <path d=\"M18.56 5.44l.94 2.06.94-2.06 2.06-.94-2.06-.94-.94-2.06-.94 2.06-2.06.94zm-11 1L8.5 8.5l.94-2.06 2.06-.94-2.06-.94L8.5 2.5l-.94 2.06-2.06.94zm10 10l.94 2.06.94-2.06 2.06-.94-2.06-.94-.94-2.06-.94 2.06-2.06.94z\"/><path d=\"M17.41 7.96l-1.37-1.37c-.4-.4-.92-.59-1.43-.59-.52 0-1.04.2-1.43.59L10.3 9.45l-7.72 7.72c-.78.78-.78 2.05 0 2.83L4 21.41c.39.39.9.59 1.41.59.51 0 1.02-.2 1.41-.59l7.78-7.78 2.81-2.81c.8-.78.8-2.07 0-2.86zM5.41 20L4 18.59l7.72-7.72 1.47 1.35L5.41 20z\"/>\n",
              "  </svg>\n",
              "      </button>\n",
              "      \n",
              "  <style>\n",
              "    .colab-df-container {\n",
              "      display:flex;\n",
              "      flex-wrap:wrap;\n",
              "      gap: 12px;\n",
              "    }\n",
              "\n",
              "    .colab-df-convert {\n",
              "      background-color: #E8F0FE;\n",
              "      border: none;\n",
              "      border-radius: 50%;\n",
              "      cursor: pointer;\n",
              "      display: none;\n",
              "      fill: #1967D2;\n",
              "      height: 32px;\n",
              "      padding: 0 0 0 0;\n",
              "      width: 32px;\n",
              "    }\n",
              "\n",
              "    .colab-df-convert:hover {\n",
              "      background-color: #E2EBFA;\n",
              "      box-shadow: 0px 1px 2px rgba(60, 64, 67, 0.3), 0px 1px 3px 1px rgba(60, 64, 67, 0.15);\n",
              "      fill: #174EA6;\n",
              "    }\n",
              "\n",
              "    [theme=dark] .colab-df-convert {\n",
              "      background-color: #3B4455;\n",
              "      fill: #D2E3FC;\n",
              "    }\n",
              "\n",
              "    [theme=dark] .colab-df-convert:hover {\n",
              "      background-color: #434B5C;\n",
              "      box-shadow: 0px 1px 3px 1px rgba(0, 0, 0, 0.15);\n",
              "      filter: drop-shadow(0px 1px 2px rgba(0, 0, 0, 0.3));\n",
              "      fill: #FFFFFF;\n",
              "    }\n",
              "  </style>\n",
              "\n",
              "      <script>\n",
              "        const buttonEl =\n",
              "          document.querySelector('#df-738951a5-37d9-4441-ba70-ea2af50b2c1f button.colab-df-convert');\n",
              "        buttonEl.style.display =\n",
              "          google.colab.kernel.accessAllowed ? 'block' : 'none';\n",
              "\n",
              "        async function convertToInteractive(key) {\n",
              "          const element = document.querySelector('#df-738951a5-37d9-4441-ba70-ea2af50b2c1f');\n",
              "          const dataTable =\n",
              "            await google.colab.kernel.invokeFunction('convertToInteractive',\n",
              "                                                     [key], {});\n",
              "          if (!dataTable) return;\n",
              "\n",
              "          const docLinkHtml = 'Like what you see? Visit the ' +\n",
              "            '<a target=\"_blank\" href=https://colab.research.google.com/notebooks/data_table.ipynb>data table notebook</a>'\n",
              "            + ' to learn more about interactive tables.';\n",
              "          element.innerHTML = '';\n",
              "          dataTable['output_type'] = 'display_data';\n",
              "          await google.colab.output.renderOutput(dataTable, element);\n",
              "          const docLink = document.createElement('div');\n",
              "          docLink.innerHTML = docLinkHtml;\n",
              "          element.appendChild(docLink);\n",
              "        }\n",
              "      </script>\n",
              "    </div>\n",
              "  </div>\n",
              "  "
            ]
          },
          "metadata": {},
          "execution_count": 11
        }
      ]
    },
    {
      "cell_type": "code",
      "source": [
        ""
      ],
      "metadata": {
        "id": "hk5gMYsjLECD"
      },
      "execution_count": null,
      "outputs": []
    }
  ]
}